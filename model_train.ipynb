{
 "metadata": {
  "language_info": {
   "codemirror_mode": {
    "name": "ipython",
    "version": 3
   },
   "file_extension": ".py",
   "mimetype": "text/x-python",
   "name": "python",
   "nbconvert_exporter": "python",
   "pygments_lexer": "ipython3",
   "version": "3.8.6-final"
  },
  "orig_nbformat": 2,
  "kernelspec": {
   "name": "python3",
   "display_name": "Python 3.8.6 64-bit",
   "metadata": {
    "interpreter": {
     "hash": "36dcff5aaef712a1efaa34e849a26ca741b7af55384372ecf52487353ffe7d13"
    }
   }
  }
 },
 "nbformat": 4,
 "nbformat_minor": 2,
 "cells": [
  {
   "cell_type": "code",
   "execution_count": 2,
   "metadata": {},
   "outputs": [],
   "source": [
    "import keras\n",
    "from keras.layers import Dense\n",
    "from keras.models import Model\n",
    "from keras.preprocessing.image import ImageDataGenerator, array_to_img, img_to_array, load_img\n",
    "from keras.applications.resnet50 import preprocess_input, decode_predictions\n",
    "\n",
    "import numpy as np\n",
    "import cv2\n",
    "from PIL import Image\n",
    "\n",
    "import tensorflow as tf"
   ]
  },
  {
   "cell_type": "code",
   "execution_count": 7,
   "metadata": {},
   "outputs": [],
   "source": [
    "dataset_dir = \"dataset_B_Eye_Images\"\n",
    "batch_size=32\n",
    "train_dir,validation_dir=(dataset_dir + \"/train\", dataset_dir + \"/validation\")"
   ]
  },
  {
   "cell_type": "code",
   "execution_count": 5,
   "metadata": {},
   "outputs": [],
   "source": [
    "# ImageDataGenerator from Keras\n",
    "datagen = ImageDataGenerator(\n",
    "        rotation_range=20,\n",
    "        width_shift_range=0.2,\n",
    "        height_shift_range=0.2,\n",
    "        shear_range=0.2,\n",
    "        zoom_range=0.2,\n",
    "        horizontal_flip=True,\n",
    "        fill_mode='nearest',\n",
    "        #data_format=\"channels_last\",\n",
    "        preprocessing_function=preprocess_input,\n",
    ")"
   ]
  },
  {
   "source": [
    "## Loading the dataset\n",
    "The data set is a combination multiple datasets found online. They are listed below:\n",
    "\n",
    "1. http://mrl.cs.vsb.cz/eyedataset\n",
    "2. R. Ghoddoosian, M. Galib and V. Athitsos, \"A Realistic Dataset and Baseline\n",
    "Temporal Model for Early Drowsiness Detection,\" _in Proceedings of the IEEE\n",
    "Conference on Computer Vision and Pattern Recognition Workshops_ , 2019.\n",
    "   * This dataset was a set of videos that had recordings of people. We wrote a script ```video-eye-generator.py``` that extracted the eyes from the videos and manually split them into closed and open\n",
    "3. F.Song, X.Tan, X.Liu and S.Chen, Eyes Closeness Detection from Still Images with Multi-scale Histograms of Principal Oriented Gradients, Pattern Recognition, 2014."
   ],
   "cell_type": "markdown",
   "metadata": {}
  },
  {
   "cell_type": "code",
   "execution_count": 4,
   "metadata": {},
   "outputs": [
    {
     "output_type": "stream",
     "name": "stdout",
     "text": [
      "Found 34931 images belonging to 2 classes.\n"
     ]
    }
   ],
   "source": [
    "# generator for train data\n",
    "train_generator = datagen.flow_from_directory(\n",
    "        train_dir,  #target directory\n",
    "        target_size=(224, 224),  #all images will be resized to (224,224)\n",
    "        batch_size=batch_size,\n",
    "        class_mode='categorical',\n",
    "        shuffle=True\n",
    ")"
   ]
  },
  {
   "cell_type": "code",
   "execution_count": 5,
   "metadata": {},
   "outputs": [
    {
     "output_type": "stream",
     "name": "stdout",
     "text": [
      "Found 970 images belonging to 2 classes.\n"
     ]
    }
   ],
   "source": [
    "# generator for validation data\n",
    "validation_generator = datagen.flow_from_directory(\n",
    "        validation_dir, #target directory\n",
    "        target_size=(224, 224),  #all images will be resized to (224,224)\n",
    "        batch_size=batch_size,\n",
    "        class_mode='categorical',\n",
    "        shuffle=True\n",
    ")"
   ]
  },
  {
   "cell_type": "code",
   "execution_count": 6,
   "metadata": {},
   "outputs": [],
   "source": [
    "# Resnet model pretrained on \"imagenet\" dataset\n",
    "resnet50=keras.applications.resnet50.ResNet50(include_top=True,\n",
    "                                     weights=\"imagenet\", \n",
    "                                     input_tensor=None, \n",
    "                                     input_shape=None,\n",
    "                                     pooling=None, \n",
    "                                     )"
   ]
  },
  {
   "source": [
    "The last layer of the model will be the softmax layer with two outputs to categorize our images"
   ],
   "cell_type": "markdown",
   "metadata": {}
  },
  {
   "cell_type": "code",
   "execution_count": 7,
   "metadata": {},
   "outputs": [],
   "source": [
    "out = Dense(2, activation=\"softmax\")(resnet50.layers[-2].output) # new output layer\n",
    "classifier_model = Model(resnet50.input, out, name=\"eye_classifier\") \n",
    "opt = keras.optimizers.Adam(learning_rate=0.01)\n",
    "classifier_model.compile(loss=\"categorical_crossentropy\", optimizer=opt,metrics=['accuracy'])"
   ]
  },
  {
   "cell_type": "code",
   "execution_count": 8,
   "metadata": {
    "tags": [
     "outputPrepend"
    ]
   },
   "outputs": [
    {
     "output_type": "stream",
     "name": "stdout",
     "text": [
      "[0][0]           \n__________________________________________________________________________________________________\nconv4_block1_1_bn (BatchNormali (None, 14, 14, 256)  1024        conv4_block1_1_conv[0][0]        \n__________________________________________________________________________________________________\nconv4_block1_1_relu (Activation (None, 14, 14, 256)  0           conv4_block1_1_bn[0][0]          \n__________________________________________________________________________________________________\nconv4_block1_2_conv (Conv2D)    (None, 14, 14, 256)  590080      conv4_block1_1_relu[0][0]        \n__________________________________________________________________________________________________\nconv4_block1_2_bn (BatchNormali (None, 14, 14, 256)  1024        conv4_block1_2_conv[0][0]        \n__________________________________________________________________________________________________\nconv4_block1_2_relu (Activation (None, 14, 14, 256)  0           conv4_block1_2_bn[0][0]          \n__________________________________________________________________________________________________\nconv4_block1_0_conv (Conv2D)    (None, 14, 14, 1024) 525312      conv3_block4_out[0][0]           \n__________________________________________________________________________________________________\nconv4_block1_3_conv (Conv2D)    (None, 14, 14, 1024) 263168      conv4_block1_2_relu[0][0]        \n__________________________________________________________________________________________________\nconv4_block1_0_bn (BatchNormali (None, 14, 14, 1024) 4096        conv4_block1_0_conv[0][0]        \n__________________________________________________________________________________________________\nconv4_block1_3_bn (BatchNormali (None, 14, 14, 1024) 4096        conv4_block1_3_conv[0][0]        \n__________________________________________________________________________________________________\nconv4_block1_add (Add)          (None, 14, 14, 1024) 0           conv4_block1_0_bn[0][0]          \n                                                                 conv4_block1_3_bn[0][0]          \n__________________________________________________________________________________________________\nconv4_block1_out (Activation)   (None, 14, 14, 1024) 0           conv4_block1_add[0][0]           \n__________________________________________________________________________________________________\nconv4_block2_1_conv (Conv2D)    (None, 14, 14, 256)  262400      conv4_block1_out[0][0]           \n__________________________________________________________________________________________________\nconv4_block2_1_bn (BatchNormali (None, 14, 14, 256)  1024        conv4_block2_1_conv[0][0]        \n__________________________________________________________________________________________________\nconv4_block2_1_relu (Activation (None, 14, 14, 256)  0           conv4_block2_1_bn[0][0]          \n__________________________________________________________________________________________________\nconv4_block2_2_conv (Conv2D)    (None, 14, 14, 256)  590080      conv4_block2_1_relu[0][0]        \n__________________________________________________________________________________________________\nconv4_block2_2_bn (BatchNormali (None, 14, 14, 256)  1024        conv4_block2_2_conv[0][0]        \n__________________________________________________________________________________________________\nconv4_block2_2_relu (Activation (None, 14, 14, 256)  0           conv4_block2_2_bn[0][0]          \n__________________________________________________________________________________________________\nconv4_block2_3_conv (Conv2D)    (None, 14, 14, 1024) 263168      conv4_block2_2_relu[0][0]        \n__________________________________________________________________________________________________\nconv4_block2_3_bn (BatchNormali (None, 14, 14, 1024) 4096        conv4_block2_3_conv[0][0]        \n__________________________________________________________________________________________________\nconv4_block2_add (Add)          (None, 14, 14, 1024) 0           conv4_block1_out[0][0]           \n                                                                 conv4_block2_3_bn[0][0]          \n__________________________________________________________________________________________________\nconv4_block2_out (Activation)   (None, 14, 14, 1024) 0           conv4_block2_add[0][0]           \n__________________________________________________________________________________________________\nconv4_block3_1_conv (Conv2D)    (None, 14, 14, 256)  262400      conv4_block2_out[0][0]           \n__________________________________________________________________________________________________\nconv4_block3_1_bn (BatchNormali (None, 14, 14, 256)  1024        conv4_block3_1_conv[0][0]        \n__________________________________________________________________________________________________\nconv4_block3_1_relu (Activation (None, 14, 14, 256)  0           conv4_block3_1_bn[0][0]          \n__________________________________________________________________________________________________\nconv4_block3_2_conv (Conv2D)    (None, 14, 14, 256)  590080      conv4_block3_1_relu[0][0]        \n__________________________________________________________________________________________________\nconv4_block3_2_bn (BatchNormali (None, 14, 14, 256)  1024        conv4_block3_2_conv[0][0]        \n__________________________________________________________________________________________________\nconv4_block3_2_relu (Activation (None, 14, 14, 256)  0           conv4_block3_2_bn[0][0]          \n__________________________________________________________________________________________________\nconv4_block3_3_conv (Conv2D)    (None, 14, 14, 1024) 263168      conv4_block3_2_relu[0][0]        \n__________________________________________________________________________________________________\nconv4_block3_3_bn (BatchNormali (None, 14, 14, 1024) 4096        conv4_block3_3_conv[0][0]        \n__________________________________________________________________________________________________\nconv4_block3_add (Add)          (None, 14, 14, 1024) 0           conv4_block2_out[0][0]           \n                                                                 conv4_block3_3_bn[0][0]          \n__________________________________________________________________________________________________\nconv4_block3_out (Activation)   (None, 14, 14, 1024) 0           conv4_block3_add[0][0]           \n__________________________________________________________________________________________________\nconv4_block4_1_conv (Conv2D)    (None, 14, 14, 256)  262400      conv4_block3_out[0][0]           \n__________________________________________________________________________________________________\nconv4_block4_1_bn (BatchNormali (None, 14, 14, 256)  1024        conv4_block4_1_conv[0][0]        \n__________________________________________________________________________________________________\nconv4_block4_1_relu (Activation (None, 14, 14, 256)  0           conv4_block4_1_bn[0][0]          \n__________________________________________________________________________________________________\nconv4_block4_2_conv (Conv2D)    (None, 14, 14, 256)  590080      conv4_block4_1_relu[0][0]        \n__________________________________________________________________________________________________\nconv4_block4_2_bn (BatchNormali (None, 14, 14, 256)  1024        conv4_block4_2_conv[0][0]        \n__________________________________________________________________________________________________\nconv4_block4_2_relu (Activation (None, 14, 14, 256)  0           conv4_block4_2_bn[0][0]          \n__________________________________________________________________________________________________\nconv4_block4_3_conv (Conv2D)    (None, 14, 14, 1024) 263168      conv4_block4_2_relu[0][0]        \n__________________________________________________________________________________________________\nconv4_block4_3_bn (BatchNormali (None, 14, 14, 1024) 4096        conv4_block4_3_conv[0][0]        \n__________________________________________________________________________________________________\nconv4_block4_add (Add)          (None, 14, 14, 1024) 0           conv4_block3_out[0][0]           \n                                                                 conv4_block4_3_bn[0][0]          \n__________________________________________________________________________________________________\nconv4_block4_out (Activation)   (None, 14, 14, 1024) 0           conv4_block4_add[0][0]           \n__________________________________________________________________________________________________\nconv4_block5_1_conv (Conv2D)    (None, 14, 14, 256)  262400      conv4_block4_out[0][0]           \n__________________________________________________________________________________________________\nconv4_block5_1_bn (BatchNormali (None, 14, 14, 256)  1024        conv4_block5_1_conv[0][0]        \n__________________________________________________________________________________________________\nconv4_block5_1_relu (Activation (None, 14, 14, 256)  0           conv4_block5_1_bn[0][0]          \n__________________________________________________________________________________________________\nconv4_block5_2_conv (Conv2D)    (None, 14, 14, 256)  590080      conv4_block5_1_relu[0][0]        \n__________________________________________________________________________________________________\nconv4_block5_2_bn (BatchNormali (None, 14, 14, 256)  1024        conv4_block5_2_conv[0][0]        \n__________________________________________________________________________________________________\nconv4_block5_2_relu (Activation (None, 14, 14, 256)  0           conv4_block5_2_bn[0][0]          \n__________________________________________________________________________________________________\nconv4_block5_3_conv (Conv2D)    (None, 14, 14, 1024) 263168      conv4_block5_2_relu[0][0]        \n__________________________________________________________________________________________________\nconv4_block5_3_bn (BatchNormali (None, 14, 14, 1024) 4096        conv4_block5_3_conv[0][0]        \n__________________________________________________________________________________________________\nconv4_block5_add (Add)          (None, 14, 14, 1024) 0           conv4_block4_out[0][0]           \n                                                                 conv4_block5_3_bn[0][0]          \n__________________________________________________________________________________________________\nconv4_block5_out (Activation)   (None, 14, 14, 1024) 0           conv4_block5_add[0][0]           \n__________________________________________________________________________________________________\nconv4_block6_1_conv (Conv2D)    (None, 14, 14, 256)  262400      conv4_block5_out[0][0]           \n__________________________________________________________________________________________________\nconv4_block6_1_bn (BatchNormali (None, 14, 14, 256)  1024        conv4_block6_1_conv[0][0]        \n__________________________________________________________________________________________________\nconv4_block6_1_relu (Activation (None, 14, 14, 256)  0           conv4_block6_1_bn[0][0]          \n__________________________________________________________________________________________________\nconv4_block6_2_conv (Conv2D)    (None, 14, 14, 256)  590080      conv4_block6_1_relu[0][0]        \n__________________________________________________________________________________________________\nconv4_block6_2_bn (BatchNormali (None, 14, 14, 256)  1024        conv4_block6_2_conv[0][0]        \n__________________________________________________________________________________________________\nconv4_block6_2_relu (Activation (None, 14, 14, 256)  0           conv4_block6_2_bn[0][0]          \n__________________________________________________________________________________________________\nconv4_block6_3_conv (Conv2D)    (None, 14, 14, 1024) 263168      conv4_block6_2_relu[0][0]        \n__________________________________________________________________________________________________\nconv4_block6_3_bn (BatchNormali (None, 14, 14, 1024) 4096        conv4_block6_3_conv[0][0]        \n__________________________________________________________________________________________________\nconv4_block6_add (Add)          (None, 14, 14, 1024) 0           conv4_block5_out[0][0]           \n                                                                 conv4_block6_3_bn[0][0]          \n__________________________________________________________________________________________________\nconv4_block6_out (Activation)   (None, 14, 14, 1024) 0           conv4_block6_add[0][0]           \n__________________________________________________________________________________________________\nconv5_block1_1_conv (Conv2D)    (None, 7, 7, 512)    524800      conv4_block6_out[0][0]           \n__________________________________________________________________________________________________\nconv5_block1_1_bn (BatchNormali (None, 7, 7, 512)    2048        conv5_block1_1_conv[0][0]        \n__________________________________________________________________________________________________\nconv5_block1_1_relu (Activation (None, 7, 7, 512)    0           conv5_block1_1_bn[0][0]          \n__________________________________________________________________________________________________\nconv5_block1_2_conv (Conv2D)    (None, 7, 7, 512)    2359808     conv5_block1_1_relu[0][0]        \n__________________________________________________________________________________________________\nconv5_block1_2_bn (BatchNormali (None, 7, 7, 512)    2048        conv5_block1_2_conv[0][0]        \n__________________________________________________________________________________________________\nconv5_block1_2_relu (Activation (None, 7, 7, 512)    0           conv5_block1_2_bn[0][0]          \n__________________________________________________________________________________________________\nconv5_block1_0_conv (Conv2D)    (None, 7, 7, 2048)   2099200     conv4_block6_out[0][0]           \n__________________________________________________________________________________________________\nconv5_block1_3_conv (Conv2D)    (None, 7, 7, 2048)   1050624     conv5_block1_2_relu[0][0]        \n__________________________________________________________________________________________________\nconv5_block1_0_bn (BatchNormali (None, 7, 7, 2048)   8192        conv5_block1_0_conv[0][0]        \n__________________________________________________________________________________________________\nconv5_block1_3_bn (BatchNormali (None, 7, 7, 2048)   8192        conv5_block1_3_conv[0][0]        \n__________________________________________________________________________________________________\nconv5_block1_add (Add)          (None, 7, 7, 2048)   0           conv5_block1_0_bn[0][0]          \n                                                                 conv5_block1_3_bn[0][0]          \n__________________________________________________________________________________________________\nconv5_block1_out (Activation)   (None, 7, 7, 2048)   0           conv5_block1_add[0][0]           \n__________________________________________________________________________________________________\nconv5_block2_1_conv (Conv2D)    (None, 7, 7, 512)    1049088     conv5_block1_out[0][0]           \n__________________________________________________________________________________________________\nconv5_block2_1_bn (BatchNormali (None, 7, 7, 512)    2048        conv5_block2_1_conv[0][0]        \n__________________________________________________________________________________________________\nconv5_block2_1_relu (Activation (None, 7, 7, 512)    0           conv5_block2_1_bn[0][0]          \n__________________________________________________________________________________________________\nconv5_block2_2_conv (Conv2D)    (None, 7, 7, 512)    2359808     conv5_block2_1_relu[0][0]        \n__________________________________________________________________________________________________\nconv5_block2_2_bn (BatchNormali (None, 7, 7, 512)    2048        conv5_block2_2_conv[0][0]        \n__________________________________________________________________________________________________\nconv5_block2_2_relu (Activation (None, 7, 7, 512)    0           conv5_block2_2_bn[0][0]          \n__________________________________________________________________________________________________\nconv5_block2_3_conv (Conv2D)    (None, 7, 7, 2048)   1050624     conv5_block2_2_relu[0][0]        \n__________________________________________________________________________________________________\nconv5_block2_3_bn (BatchNormali (None, 7, 7, 2048)   8192        conv5_block2_3_conv[0][0]        \n__________________________________________________________________________________________________\nconv5_block2_add (Add)          (None, 7, 7, 2048)   0           conv5_block1_out[0][0]           \n                                                                 conv5_block2_3_bn[0][0]          \n__________________________________________________________________________________________________\nconv5_block2_out (Activation)   (None, 7, 7, 2048)   0           conv5_block2_add[0][0]           \n__________________________________________________________________________________________________\nconv5_block3_1_conv (Conv2D)    (None, 7, 7, 512)    1049088     conv5_block2_out[0][0]           \n__________________________________________________________________________________________________\nconv5_block3_1_bn (BatchNormali (None, 7, 7, 512)    2048        conv5_block3_1_conv[0][0]        \n__________________________________________________________________________________________________\nconv5_block3_1_relu (Activation (None, 7, 7, 512)    0           conv5_block3_1_bn[0][0]          \n__________________________________________________________________________________________________\nconv5_block3_2_conv (Conv2D)    (None, 7, 7, 512)    2359808     conv5_block3_1_relu[0][0]        \n__________________________________________________________________________________________________\nconv5_block3_2_bn (BatchNormali (None, 7, 7, 512)    2048        conv5_block3_2_conv[0][0]        \n__________________________________________________________________________________________________\nconv5_block3_2_relu (Activation (None, 7, 7, 512)    0           conv5_block3_2_bn[0][0]          \n__________________________________________________________________________________________________\nconv5_block3_3_conv (Conv2D)    (None, 7, 7, 2048)   1050624     conv5_block3_2_relu[0][0]        \n__________________________________________________________________________________________________\nconv5_block3_3_bn (BatchNormali (None, 7, 7, 2048)   8192        conv5_block3_3_conv[0][0]        \n__________________________________________________________________________________________________\nconv5_block3_add (Add)          (None, 7, 7, 2048)   0           conv5_block2_out[0][0]           \n                                                                 conv5_block3_3_bn[0][0]          \n__________________________________________________________________________________________________\nconv5_block3_out (Activation)   (None, 7, 7, 2048)   0           conv5_block3_add[0][0]           \n__________________________________________________________________________________________________\navg_pool (GlobalAveragePooling2 (None, 2048)         0           conv5_block3_out[0][0]           \n__________________________________________________________________________________________________\ndense (Dense)                   (None, 2)            4098        avg_pool[0][0]                   \n==================================================================================================\nTotal params: 23,591,810\nTrainable params: 23,538,690\nNon-trainable params: 53,120\n__________________________________________________________________________________________________\n"
     ]
    }
   ],
   "source": [
    "classifier_model.summary()"
   ]
  },
  {
   "cell_type": "code",
   "execution_count": 9,
   "metadata": {},
   "outputs": [
    {
     "output_type": "stream",
     "name": "stdout",
     "text": [
      "WARNING:tensorflow:From <ipython-input-9-c17e9774c3f3>:1: Model.fit_generator (from tensorflow.python.keras.engine.training) is deprecated and will be removed in a future version.\n",
      "Instructions for updating:\n",
      "Please use Model.fit, which supports generators.\n",
      "Epoch 1/25\n",
      "   2/1092 [..............................] - ETA: 2:57 - loss: 2.3593 - accuracy: 0.4062WARNING:tensorflow:Callbacks method `on_train_batch_end` is slow compared to the batch time (batch time: 0.1197s vs `on_train_batch_end` time: 0.2055s). Check your callbacks.\n",
      "1092/1092 [==============================] - 561s 514ms/step - loss: 0.7223 - accuracy: 0.6168 - val_loss: 0.6993 - val_accuracy: 0.5804\n",
      "Epoch 2/25\n",
      "1092/1092 [==============================] - 469s 429ms/step - loss: 0.6269 - accuracy: 0.6393 - val_loss: 40.1863 - val_accuracy: 0.4948\n",
      "Epoch 3/25\n",
      "1092/1092 [==============================] - 478s 438ms/step - loss: 0.3186 - accuracy: 0.8672 - val_loss: 1.1589 - val_accuracy: 0.7443\n",
      "Epoch 4/25\n",
      "1092/1092 [==============================] - 4089s 4s/step - loss: 0.1388 - accuracy: 0.9498 - val_loss: 0.5432 - val_accuracy: 0.8443\n",
      "Epoch 5/25\n",
      "1092/1092 [==============================] - 456s 417ms/step - loss: 0.1093 - accuracy: 0.9600 - val_loss: 0.4825 - val_accuracy: 0.8113\n",
      "Epoch 6/25\n",
      "1092/1092 [==============================] - 429s 393ms/step - loss: 0.0925 - accuracy: 0.9660 - val_loss: 0.5840 - val_accuracy: 0.8216\n",
      "Epoch 7/25\n",
      "1092/1092 [==============================] - 446s 408ms/step - loss: 0.0821 - accuracy: 0.9703 - val_loss: 0.4569 - val_accuracy: 0.8423\n",
      "Epoch 8/25\n",
      "1092/1092 [==============================] - 448s 410ms/step - loss: 0.0735 - accuracy: 0.9729 - val_loss: 0.3776 - val_accuracy: 0.8887\n",
      "Epoch 9/25\n",
      "1092/1092 [==============================] - 447s 409ms/step - loss: 0.0679 - accuracy: 0.9751 - val_loss: 0.4183 - val_accuracy: 0.8856\n",
      "Epoch 10/25\n",
      "1092/1092 [==============================] - 426s 390ms/step - loss: 0.0650 - accuracy: 0.9768 - val_loss: 0.4962 - val_accuracy: 0.8402\n",
      "Epoch 11/25\n",
      "1092/1092 [==============================] - 443s 406ms/step - loss: 0.0606 - accuracy: 0.9787 - val_loss: 2.1253 - val_accuracy: 0.6113\n",
      "Epoch 12/25\n",
      "1092/1092 [==============================] - 438s 401ms/step - loss: 0.0529 - accuracy: 0.9803 - val_loss: 1.6200 - val_accuracy: 0.8649\n",
      "Epoch 13/25\n",
      "1092/1092 [==============================] - 433s 396ms/step - loss: 0.0510 - accuracy: 0.9815 - val_loss: 0.2027 - val_accuracy: 0.9206\n",
      "Epoch 14/25\n",
      "1092/1092 [==============================] - 457s 419ms/step - loss: 0.0597 - accuracy: 0.9790 - val_loss: 0.1782 - val_accuracy: 0.9268\n",
      "Epoch 15/25\n",
      "1092/1092 [==============================] - 417s 382ms/step - loss: 0.0453 - accuracy: 0.9839 - val_loss: 0.3082 - val_accuracy: 0.9010\n",
      "Epoch 16/25\n",
      "1092/1092 [==============================] - 443s 405ms/step - loss: 0.0425 - accuracy: 0.9839 - val_loss: 0.1827 - val_accuracy: 0.9330\n",
      "Epoch 17/25\n",
      "1092/1092 [==============================] - 458s 420ms/step - loss: 0.0418 - accuracy: 0.9844 - val_loss: 0.3015 - val_accuracy: 0.8959\n",
      "Epoch 18/25\n",
      "1092/1092 [==============================] - 454s 416ms/step - loss: 0.0450 - accuracy: 0.9835 - val_loss: 0.1858 - val_accuracy: 0.9412\n",
      "Epoch 19/25\n",
      "1092/1092 [==============================] - 446s 408ms/step - loss: 0.0378 - accuracy: 0.9864 - val_loss: 0.1600 - val_accuracy: 0.9433\n",
      "Epoch 20/25\n",
      "1092/1092 [==============================] - 450s 412ms/step - loss: 0.0368 - accuracy: 0.9860 - val_loss: 0.2067 - val_accuracy: 0.9340\n",
      "Epoch 21/25\n",
      "1092/1092 [==============================] - 456s 417ms/step - loss: 0.0356 - accuracy: 0.9862 - val_loss: 0.1421 - val_accuracy: 0.9474\n",
      "Epoch 22/25\n",
      "1092/1092 [==============================] - 468s 429ms/step - loss: 0.0387 - accuracy: 0.9860 - val_loss: 0.5951 - val_accuracy: 0.8732\n",
      "Epoch 23/25\n",
      "1092/1092 [==============================] - 448s 410ms/step - loss: 0.0344 - accuracy: 0.9873 - val_loss: 0.1502 - val_accuracy: 0.9495\n",
      "Epoch 24/25\n",
      "1092/1092 [==============================] - 440s 403ms/step - loss: 0.0403 - accuracy: 0.9862 - val_loss: 0.2067 - val_accuracy: 0.9340\n",
      "Epoch 25/25\n",
      "1092/1092 [==============================] - 422s 387ms/step - loss: 0.0349 - accuracy: 0.9873 - val_loss: 0.1435 - val_accuracy: 0.9515\n"
     ]
    },
    {
     "output_type": "execute_result",
     "data": {
      "text/plain": [
       "<tensorflow.python.keras.callbacks.History at 0x2ba527b0100>"
      ]
     },
     "metadata": {},
     "execution_count": 9
    }
   ],
   "source": [
    "classifier_model.fit_generator(train_generator,\n",
    "                          steps_per_epoch=len(train_generator),\n",
    "                          epochs=25,\n",
    "                          validation_data=validation_generator,\n",
    "                          validation_steps=len(validation_generator),\n",
    ")"
   ]
  },
  {
   "cell_type": "code",
   "execution_count": 10,
   "metadata": {},
   "outputs": [],
   "source": [
    "# Save the model\n",
    "classifier_model.save(\"models/eye_classifier_20201219.h5\")"
   ]
  },
  {
   "source": [
    "## Evaluation"
   ],
   "cell_type": "markdown",
   "metadata": {}
  },
  {
   "cell_type": "code",
   "execution_count": 3,
   "metadata": {},
   "outputs": [],
   "source": [
    "classifier_model = keras.models.load_model(\"models/eye_classifier_20201219.h5\")"
   ]
  },
  {
   "cell_type": "code",
   "execution_count": 8,
   "metadata": {},
   "outputs": [
    {
     "output_type": "stream",
     "name": "stdout",
     "text": [
      "Found 11746 images belonging to 2 classes.\n"
     ]
    }
   ],
   "source": [
    "test_dir = \"dataset_B_Eye_Images/test\"\n",
    "# generator for train data\n",
    "test_generator = datagen.flow_from_directory(\n",
    "        test_dir,  #target directory\n",
    "        target_size=(224, 224),  #all images will be resized to (224,224)\n",
    "        batch_size=batch_size,\n",
    "        class_mode='categorical',\n",
    "        shuffle=True\n",
    ")"
   ]
  },
  {
   "cell_type": "code",
   "execution_count": 11,
   "metadata": {},
   "outputs": [
    {
     "output_type": "stream",
     "name": "stdout",
     "text": [
      "WARNING:tensorflow:From <ipython-input-11-b2d7ecbf128e>:1: Model.evaluate_generator (from tensorflow.python.keras.engine.training) is deprecated and will be removed in a future version.\n",
      "Instructions for updating:\n",
      "Please use Model.evaluate, which supports generators.\n",
      "loss: 0.179 - acc: 0.946\n"
     ]
    }
   ],
   "source": [
    "score = classifier_model.evaluate_generator(generator=test_generator,\n",
    "                                     steps=test_generator.samples//batch_size, \n",
    "                                     max_queue_size=10,\n",
    "                                     workers=1,\n",
    "                                     use_multiprocessing=False,\n",
    "                                     verbose=0)\n",
    "print(\"loss: %.3f - acc: %.3f\" % (score[0], score[1]))"
   ]
  },
  {
   "source": [
    "Testing this model on some random images"
   ],
   "cell_type": "markdown",
   "metadata": {}
  },
  {
   "cell_type": "code",
   "execution_count": 12,
   "metadata": {},
   "outputs": [],
   "source": [
    "classes={1:\"open\",0:\"close\"}"
   ]
  },
  {
   "cell_type": "code",
   "execution_count": 14,
   "metadata": {},
   "outputs": [],
   "source": [
    "img = cv2.imread(\"dataset/eyes_closed/02-0.mov_frame199.jpg\")\n",
    "preprocessed_img = cv2.resize(preprocess_input(img.astype(np.float32)),(224,224))\n",
    "new_preprocessed_img = np.expand_dims(preprocessed_img, axis=0)"
   ]
  },
  {
   "cell_type": "code",
   "execution_count": 16,
   "metadata": {},
   "outputs": [],
   "source": [
    "preds=classifier_model.predict(new_preprocessed_img)"
   ]
  },
  {
   "cell_type": "code",
   "execution_count": 17,
   "metadata": {},
   "outputs": [
    {
     "output_type": "stream",
     "name": "stdout",
     "text": [
      "[[9.9959856e-01 4.0148813e-04]]\n['close']\n"
     ]
    }
   ],
   "source": [
    "labels=[classes[p] for p in np.argmax(preds, axis=1)] #close/open label for each frame\n",
    "print(preds)\n",
    "print(labels)"
   ]
  },
  {
   "cell_type": "code",
   "execution_count": 18,
   "metadata": {},
   "outputs": [],
   "source": [
    "img = cv2.imread(\"dataset/eyes_closed/02-5.MOV_frame41.jpg\")\n",
    "preprocessed_img = cv2.resize(preprocess_input(img.astype(np.float32)),(224,224))\n",
    "new_preprocessed_img = np.expand_dims(preprocessed_img, axis=0)"
   ]
  },
  {
   "cell_type": "code",
   "execution_count": 19,
   "metadata": {},
   "outputs": [],
   "source": [
    "preds=classifier_model.predict(new_preprocessed_img)"
   ]
  },
  {
   "cell_type": "code",
   "execution_count": 20,
   "metadata": {},
   "outputs": [
    {
     "output_type": "stream",
     "name": "stdout",
     "text": [
      "[[0.9979036  0.00209646]]\n['close']\n"
     ]
    }
   ],
   "source": [
    "labels=[classes[p] for p in np.argmax(preds, axis=1)] #close/open label for each frame\n",
    "print(preds)\n",
    "print(labels)"
   ]
  },
  {
   "cell_type": "code",
   "execution_count": 21,
   "metadata": {},
   "outputs": [],
   "source": [
    "img = cv2.imread(\"saved_frames/leye/01-0.mov_frame157.jpg\")\n",
    "preprocessed_img = cv2.resize(preprocess_input(img.astype(np.float32)),(224,224))\n",
    "new_preprocessed_img = np.expand_dims(preprocessed_img, axis=0)"
   ]
  },
  {
   "cell_type": "code",
   "execution_count": 22,
   "metadata": {},
   "outputs": [],
   "source": [
    "preds=classifier_model.predict(new_preprocessed_img)"
   ]
  },
  {
   "cell_type": "code",
   "execution_count": 23,
   "metadata": {},
   "outputs": [
    {
     "output_type": "stream",
     "name": "stdout",
     "text": [
      "[[1.4268703e-16 1.0000000e+00]]\n['open']\n"
     ]
    }
   ],
   "source": [
    "labels=[classes[p] for p in np.argmax(preds, axis=1)] #close/open label for each frame\n",
    "print(preds)\n",
    "print(labels)"
   ]
  },
  {
   "cell_type": "code",
   "execution_count": 24,
   "metadata": {},
   "outputs": [],
   "source": [
    "img = cv2.imread(\"saved_frames_webcam/leye/01-0.mov_frame94.jpg\")\n",
    "preprocessed_img = cv2.resize(preprocess_input(img.astype(np.float32)),(224,224))\n",
    "new_preprocessed_img = np.expand_dims(preprocessed_img, axis=0)"
   ]
  },
  {
   "cell_type": "code",
   "execution_count": 25,
   "metadata": {},
   "outputs": [],
   "source": [
    "preds=classifier_model.predict(new_preprocessed_img)"
   ]
  },
  {
   "cell_type": "code",
   "execution_count": 26,
   "metadata": {},
   "outputs": [
    {
     "output_type": "stream",
     "name": "stdout",
     "text": [
      "[[0.70463145 0.29536855]]\n['close']\n"
     ]
    }
   ],
   "source": [
    "labels=[classes[p] for p in np.argmax(preds, axis=1)] #close/open label for each frame\n",
    "print(preds)\n",
    "print(labels)"
   ]
  },
  {
   "source": [
    "## Drowsiness Detection\n",
    "Run the ```drowsiness_detection.py``` script, which will make use of the model that was trained here, to read the webcam input, frame by frame, detects each eye separately, and checks if the eye is open or close.\n",
    "\n",
    "If both eyes are closed at any given time, a point is added to a score, and a point is removed from the score otherwise. So, if the eyes are closed for a long period of time consequtively, the score value increases, and when it increases to a value above a set threshold, an alarm will sound, along with a graphical way of notifying the user that he is drowsy and will wake them up."
   ],
   "cell_type": "markdown",
   "metadata": {}
  },
  {
   "source": [
    "## Conclusion\n",
    "\n",
    "After running the above script, we find that there are some flaws. Particularly with eye extraction. For the purposes of detecting the eye, we used the inbuilt Haar Cascade function. In the future, to improve the feature extraction better, we can probably implement a CNN."
   ],
   "cell_type": "markdown",
   "metadata": {}
  }
 ]
}