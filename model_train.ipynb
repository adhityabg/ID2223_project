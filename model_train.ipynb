{
 "metadata": {
  "language_info": {
   "codemirror_mode": {
    "name": "ipython",
    "version": 3
   },
   "file_extension": ".py",
   "mimetype": "text/x-python",
   "name": "python",
   "nbconvert_exporter": "python",
   "pygments_lexer": "ipython3",
   "version": "3.8.6-final"
  },
  "orig_nbformat": 2,
  "kernelspec": {
   "name": "python3",
   "display_name": "Python 3.8.6 64-bit",
   "metadata": {
    "interpreter": {
     "hash": "36dcff5aaef712a1efaa34e849a26ca741b7af55384372ecf52487353ffe7d13"
    }
   }
  }
 },
 "nbformat": 4,
 "nbformat_minor": 2,
 "cells": [
  {
   "cell_type": "code",
   "execution_count": 1,
   "metadata": {},
   "outputs": [],
   "source": [
    "import keras\n",
    "from keras.layers import Dense\n",
    "from keras.models import Model\n",
    "from keras.preprocessing.image import ImageDataGenerator, array_to_img, img_to_array, load_img\n",
    "from keras.applications.resnet50 import preprocess_input, decode_predictions\n",
    "\n",
    "import numpy as np\n",
    "import cv2\n",
    "from PIL import Image\n",
    "\n",
    "import tensorflow as tf"
   ]
  },
  {
   "cell_type": "code",
   "execution_count": null,
   "metadata": {},
   "outputs": [],
   "source": [
    "dataset_dir = \"dataset_B_Eye_Images\"\n",
    "batch_size=32\n",
    "train_dir,test_dir=(dataset_dir + \"/train\", dataset_dir + \"/test\")"
   ]
  },
  {
   "cell_type": "code",
   "execution_count": null,
   "metadata": {},
   "outputs": [],
   "source": [
    "# ImageDataGenerator from Keras\n",
    "datagen = ImageDataGenerator(\n",
    "        rotation_range=20,\n",
    "        width_shift_range=0.2,\n",
    "        height_shift_range=0.2,\n",
    "        shear_range=0.2,\n",
    "        zoom_range=0.2,\n",
    "        horizontal_flip=True,\n",
    "        fill_mode='nearest',\n",
    "        #data_format=\"channels_last\",\n",
    "        preprocessing_function=preprocess_input,\n",
    ")"
   ]
  },
  {
   "cell_type": "code",
   "execution_count": null,
   "metadata": {},
   "outputs": [],
   "source": [
    "# generator for train data\n",
    "train_generator = datagen.flow_from_directory(\n",
    "        train_dir,  #target directory\n",
    "        target_size=(224, 224),  #all images will be resized to (224,224)\n",
    "        batch_size=batch_size,\n",
    "        class_mode='categorical',\n",
    "        shuffle=True\n",
    ")"
   ]
  },
  {
   "cell_type": "code",
   "execution_count": null,
   "metadata": {},
   "outputs": [],
   "source": [
    "# generator for validation data\n",
    "validation_generator = datagen.flow_from_directory(\n",
    "        test_dir, #target directory\n",
    "        target_size=(224, 224),  #all images will be resized to (224,224)\n",
    "        batch_size=batch_size,\n",
    "        class_mode='categorical',\n",
    "        shuffle=True\n",
    ")"
   ]
  },
  {
   "cell_type": "code",
   "execution_count": null,
   "metadata": {},
   "outputs": [],
   "source": [
    "# Resnet model pretrained on \"imagenet\" dataset\n",
    "resnet50=keras.applications.resnet50.ResNet50(include_top=True,\n",
    "                                     weights=\"imagenet\", \n",
    "                                     input_tensor=None, \n",
    "                                     input_shape=None,\n",
    "                                     pooling=None, \n",
    "                                     )"
   ]
  },
  {
   "cell_type": "code",
   "execution_count": null,
   "metadata": {},
   "outputs": [],
   "source": [
    "out=Dense(2, activation=\"softmax\")(resnet50.layers[-2].output) # new output layer\n",
    "classifier_model=Model(resnet50.input, out, name=\"eye_classifier\") # new model with above output layer instead of 1000d from imagenet\n",
    "opt = keras.optimizers.Adam(learning_rate=0.01)\n",
    "classifier_model.compile(loss=\"categorical_crossentropy\", optimizer=opt,metrics=['accuracy'])\n",
    "#all layers in the model are trainable"
   ]
  },
  {
   "cell_type": "code",
   "execution_count": null,
   "metadata": {
    "tags": [
     "outputPrepend"
    ]
   },
   "outputs": [],
   "source": [
    "classifier_model.summary()"
   ]
  },
  {
   "cell_type": "code",
   "execution_count": null,
   "metadata": {},
   "outputs": [],
   "source": [
    "classifier_model.fit_generator(train_generator,\n",
    "                          steps_per_epoch=len(train_generator),\n",
    "                          epochs=25,\n",
    "                          validation_data=validation_generator,\n",
    "                          validation_steps=len(validation_generator),\n",
    ") #train the model for 25 epochs"
   ]
  },
  {
   "cell_type": "code",
   "execution_count": null,
   "metadata": {},
   "outputs": [],
   "source": [
    "# Save the model\n",
    "classifier_model.save(\"models/train_using_pre-trained_final.h5\")"
   ]
  },
  {
   "source": [
    "## To run just the prediction part, run below cells after the import cells above"
   ],
   "cell_type": "markdown",
   "metadata": {}
  },
  {
   "cell_type": "code",
   "execution_count": 2,
   "metadata": {},
   "outputs": [],
   "source": [
    "classes={1:\"open\",0:\"close\"}"
   ]
  },
  {
   "cell_type": "code",
   "execution_count": 7,
   "metadata": {},
   "outputs": [],
   "source": [
    "classifier_model = keras.models.load_model(\"models/train_using_pre-trained_final.h5\")"
   ]
  },
  {
   "cell_type": "code",
   "execution_count": 3,
   "metadata": {},
   "outputs": [],
   "source": [
    "img = cv2.imread(\"dataset/eyes_closed/02-0.mov_frame199.jpg\")"
   ]
  },
  {
   "cell_type": "code",
   "execution_count": 6,
   "metadata": {},
   "outputs": [],
   "source": [
    "preprocessed_img = cv2.resize(preprocess_input(img.astype(np.float32)),(224,224))"
   ]
  },
  {
   "cell_type": "code",
   "execution_count": 14,
   "metadata": {},
   "outputs": [],
   "source": [
    "new_preprocessed_img = np.expand_dims(preprocessed_img, axis=0)\n"
   ]
  },
  {
   "cell_type": "code",
   "execution_count": 16,
   "metadata": {},
   "outputs": [],
   "source": [
    "preds=classifier_model.predict(new_preprocessed_img)"
   ]
  },
  {
   "cell_type": "code",
   "execution_count": 18,
   "metadata": {},
   "outputs": [
    {
     "output_type": "stream",
     "name": "stdout",
     "text": [
      "['close']\n"
     ]
    }
   ],
   "source": [
    "labels=[classes[p] for p in np.argmax(preds, axis=1)] #close/open label for each frame\n",
    "print(labels)"
   ]
  },
  {
   "cell_type": "code",
   "execution_count": 19,
   "metadata": {},
   "outputs": [],
   "source": [
    "img = cv2.imread(\"dataset/eyes_closed/02-5.MOV_frame41.jpg\")\n",
    "preprocessed_img = cv2.resize(preprocess_input(img.astype(np.float32)),(224,224))\n",
    "new_preprocessed_img = np.expand_dims(preprocessed_img, axis=0)"
   ]
  },
  {
   "cell_type": "code",
   "execution_count": 20,
   "metadata": {},
   "outputs": [],
   "source": [
    "preds=classifier_model.predict(new_preprocessed_img)"
   ]
  },
  {
   "cell_type": "code",
   "execution_count": 21,
   "metadata": {},
   "outputs": [
    {
     "output_type": "stream",
     "name": "stdout",
     "text": [
      "['close']\n"
     ]
    }
   ],
   "source": [
    "labels=[classes[p] for p in np.argmax(preds, axis=1)] #close/open label for each frame\n",
    "print(labels)"
   ]
  },
  {
   "cell_type": "code",
   "execution_count": 22,
   "metadata": {},
   "outputs": [],
   "source": [
    "img = cv2.imread(\"saved_frames/leye/01-0.mov_frame157.jpg\")\n",
    "preprocessed_img = cv2.resize(preprocess_input(img.astype(np.float32)),(224,224))\n",
    "new_preprocessed_img = np.expand_dims(preprocessed_img, axis=0)"
   ]
  },
  {
   "cell_type": "code",
   "execution_count": 23,
   "metadata": {},
   "outputs": [],
   "source": [
    "preds=classifier_model.predict(new_preprocessed_img)"
   ]
  },
  {
   "cell_type": "code",
   "execution_count": 24,
   "metadata": {},
   "outputs": [
    {
     "output_type": "stream",
     "name": "stdout",
     "text": [
      "['open']\n"
     ]
    }
   ],
   "source": [
    "labels=[classes[p] for p in np.argmax(preds, axis=1)] #close/open label for each frame\n",
    "print(labels)"
   ]
  },
  {
   "cell_type": "code",
   "execution_count": 25,
   "metadata": {},
   "outputs": [],
   "source": [
    "img = cv2.imread(\"saved_frames_webcam/leye/01-0.mov_frame94.jpg\")\n",
    "preprocessed_img = cv2.resize(preprocess_input(img.astype(np.float32)),(224,224))\n",
    "new_preprocessed_img = np.expand_dims(preprocessed_img, axis=0)"
   ]
  },
  {
   "cell_type": "code",
   "execution_count": 26,
   "metadata": {},
   "outputs": [],
   "source": [
    "preds=classifier_model.predict(new_preprocessed_img)"
   ]
  },
  {
   "cell_type": "code",
   "execution_count": 27,
   "metadata": {},
   "outputs": [
    {
     "output_type": "stream",
     "name": "stdout",
     "text": [
      "['close']\n"
     ]
    }
   ],
   "source": [
    "labels=[classes[p] for p in np.argmax(preds, axis=1)] #close/open label for each frame\n",
    "print(labels)"
   ]
  },
  {
   "cell_type": "code",
   "execution_count": 35,
   "metadata": {},
   "outputs": [],
   "source": [
    "img = cv2.imread(\"temp/l_temp.jpg\")\n",
    "preprocessed_img = cv2.resize(preprocess_input(img.astype(np.float32)),(224,224))\n",
    "new_preprocessed_img = np.expand_dims(preprocessed_img, axis=0)"
   ]
  },
  {
   "cell_type": "code",
   "execution_count": 36,
   "metadata": {},
   "outputs": [],
   "source": [
    "preds=classifier_model.predict(new_preprocessed_img)"
   ]
  },
  {
   "cell_type": "code",
   "execution_count": 37,
   "metadata": {},
   "outputs": [
    {
     "output_type": "stream",
     "name": "stdout",
     "text": [
      "['close']\n"
     ]
    }
   ],
   "source": [
    "labels=[classes[p] for p in np.argmax(preds, axis=1)] #close/open label for each frame\n",
    "print(labels)"
   ]
  },
  {
   "cell_type": "code",
   "execution_count": null,
   "metadata": {},
   "outputs": [],
   "source": []
  }
 ]
}